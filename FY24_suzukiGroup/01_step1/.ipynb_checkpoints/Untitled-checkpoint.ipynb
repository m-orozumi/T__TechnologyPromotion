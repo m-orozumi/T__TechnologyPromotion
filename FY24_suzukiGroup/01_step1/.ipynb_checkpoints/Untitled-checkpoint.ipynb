{
 "cells": [
  {
   "cell_type": "code",
   "execution_count": 1,
   "id": "3d97d26c",
   "metadata": {},
   "outputs": [
    {
     "ename": "ModuleNotFoundError",
     "evalue": "No module named 'selenium'",
     "output_type": "error",
     "traceback": [
      "\u001b[1;31m---------------------------------------------------------------------------\u001b[0m",
      "\u001b[1;31mModuleNotFoundError\u001b[0m                       Traceback (most recent call last)",
      "Input \u001b[1;32mIn [1]\u001b[0m, in \u001b[0;36m<cell line: 3>\u001b[1;34m()\u001b[0m\n\u001b[0;32m      1\u001b[0m \u001b[38;5;28;01mimport\u001b[39;00m \u001b[38;5;21;01mos\u001b[39;00m\n\u001b[0;32m      2\u001b[0m \u001b[38;5;28;01mimport\u001b[39;00m \u001b[38;5;21;01mcsv\u001b[39;00m\n\u001b[1;32m----> 3\u001b[0m \u001b[38;5;28;01mfrom\u001b[39;00m \u001b[38;5;21;01mselenium\u001b[39;00m \u001b[38;5;28;01mimport\u001b[39;00m webdriver\n\u001b[0;32m      4\u001b[0m \u001b[38;5;28;01mfrom\u001b[39;00m \u001b[38;5;21;01mselenium\u001b[39;00m\u001b[38;5;21;01m.\u001b[39;00m\u001b[38;5;21;01mwebdriver\u001b[39;00m\u001b[38;5;21;01m.\u001b[39;00m\u001b[38;5;21;01mcommon\u001b[39;00m\u001b[38;5;21;01m.\u001b[39;00m\u001b[38;5;21;01mby\u001b[39;00m \u001b[38;5;28;01mimport\u001b[39;00m By\n\u001b[0;32m      5\u001b[0m \u001b[38;5;28;01mfrom\u001b[39;00m \u001b[38;5;21;01mselenium\u001b[39;00m\u001b[38;5;21;01m.\u001b[39;00m\u001b[38;5;21;01mwebdriver\u001b[39;00m\u001b[38;5;21;01m.\u001b[39;00m\u001b[38;5;21;01mcommon\u001b[39;00m\u001b[38;5;21;01m.\u001b[39;00m\u001b[38;5;21;01mkeys\u001b[39;00m \u001b[38;5;28;01mimport\u001b[39;00m Keys\n",
      "\u001b[1;31mModuleNotFoundError\u001b[0m: No module named 'selenium'"
     ]
    }
   ],
   "source": [
    "import os\n",
    "import csv\n",
    "from selenium import webdriver\n",
    "from selenium.webdriver.common.by import By\n",
    "from selenium.webdriver.common.keys import Keys\n",
    "from selenium.webdriver.support.ui import WebDriverWait\n",
    "from selenium.webdriver.support.expected_conditions import presence_of_element_located\n",
    "from selenium.webdriver.common.desired_capabilities import DesiredCapabilities\n",
    "\n",
    "if __name__ == '__main__':\n",
    "    filename = './zeal_search_result.csv'\n",
    "    titles = []\n",
    "    urls = []\n",
    "\n",
    "    # Selenium Gridサーバーへ接続する。\n",
    "    driver = webdriver.Remote(\n",
    "        command_executor=os.environ[\"SELENIUM_URL\"],\n",
    "        desired_capabilities=DesiredCapabilities.CHROME.copy()\n",
    "    )\n",
    "\n",
    "    # 1. 検索キーワード入力\n",
    "    keyword = input(\"Search Keyword：\")\n",
    "\n",
    "    # 2. Googleにアクセス+入力キーワードで検索\n",
    "    driver.get(\"https://zdh.stagingbridge.net/\")\n",
    "    driver.find_element(By.NAME, \"q\").send_keys(keyword + Keys.RETURN)\n",
    "    # 検索結果描画待機\n",
    "    wait = WebDriverWait(driver, 10)\n",
    "    wait.until(\n",
    "        presence_of_element_located((By.XPATH, '//a/h3')))\n",
    "\n",
    "    # 3. タイトルとURLを抽出\n",
    "    for elem_h3 in driver.find_elements_by_xpath('//a/h3'):\n",
    "        title = elem_h3.text\n",
    "        url = elem_h3.find_element_by_xpath('..').get_attribute('href')\n",
    "        print(\"Title:\"+title+\" | \"+\"URL:\"+url)\n",
    "        titles.append(title)\n",
    "        urls.append(url)\n",
    "\n",
    "    # 4. csv出力\n",
    "    result = [list(row) for row in zip(titles, urls)]\n",
    "    with open(filename, mode=\"w\", encoding=\"utf-8\") as f:\n",
    "        writer = csv.writer(f, lineterminator=\"\\n\")\n",
    "        writer.writerows(result)\n",
    "    driver.quit()"
   ]
  },
  {
   "cell_type": "code",
   "execution_count": 1,
   "id": "a93d104f",
   "metadata": {},
   "outputs": [
    {
     "name": "stdout",
     "output_type": "stream",
     "text": [
      "Hello\n"
     ]
    }
   ],
   "source": [
    "print('Hello')"
   ]
  },
  {
   "cell_type": "code",
   "execution_count": null,
   "id": "b87032dc",
   "metadata": {},
   "outputs": [],
   "source": []
  }
 ],
 "metadata": {
  "kernelspec": {
   "display_name": "Python 3 (ipykernel)",
   "language": "python",
   "name": "python3"
  },
  "language_info": {
   "codemirror_mode": {
    "name": "ipython",
    "version": 3
   },
   "file_extension": ".py",
   "mimetype": "text/x-python",
   "name": "python",
   "nbconvert_exporter": "python",
   "pygments_lexer": "ipython3",
   "version": "3.9.12"
  }
 },
 "nbformat": 4,
 "nbformat_minor": 5
}
